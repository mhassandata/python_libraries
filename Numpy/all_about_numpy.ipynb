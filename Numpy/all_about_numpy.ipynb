{
 "cells": [
  {
   "cell_type": "markdown",
   "id": "7a526d7b",
   "metadata": {},
   "source": [
    "# Numpy \n",
    "Numpy Numerical Python (NumPy) is an open source Python library for scientific computing. NumPy provides a host of features that allow a Python programmer to work with high-performance arrays and matrices.\n",
    "Following are some features of Numpy\n",
    "\n",
    "\n",
    "    - Numerical Python\n",
    "    - Numerical Array\n",
    "    - Fastest \n",
    "    - Vectorize Operation\n",
    "    - Contigious Memory\n",
    "    "
   ]
  },
  {
   "cell_type": "code",
   "execution_count": 1,
   "id": "551c1cbb",
   "metadata": {},
   "outputs": [],
   "source": [
    "#importing numpy llibrary\n",
    "import numpy as np"
   ]
  },
  {
   "cell_type": "code",
   "execution_count": null,
   "id": "06c4f85e",
   "metadata": {},
   "outputs": [],
   "source": [
    "#creating a number array\n"
   ]
  }
 ],
 "metadata": {
  "kernelspec": {
   "display_name": "Python 3 (ipykernel)",
   "language": "python",
   "name": "python3"
  },
  "language_info": {
   "codemirror_mode": {
    "name": "ipython",
    "version": 3
   },
   "file_extension": ".py",
   "mimetype": "text/x-python",
   "name": "python",
   "nbconvert_exporter": "python",
   "pygments_lexer": "ipython3",
   "version": "3.9.13"
  }
 },
 "nbformat": 4,
 "nbformat_minor": 5
}
