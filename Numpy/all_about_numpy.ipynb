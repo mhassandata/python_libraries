{
 "cells": [
  {
   "cell_type": "markdown",
   "id": "cd5f06f2",
   "metadata": {},
   "source": [
    "# Numpy \n",
    "Numpy Numerical Python (NumPy) is an open source Python library for scientific computing. NumPy provides a host of features that allow a Python programmer to work with high-performance arrays and matrices.\n",
    "Following are some features of Numpy\n",
    "\n",
    "\n",
    "    - Numerical Python\n",
    "    - Numerical Array\n",
    "    - Fastest \n",
    "    - Vectorize Operation\n",
    "    - Contigious Memory\n",
    "    "
   ]
  },
  {
   "cell_type": "code",
   "execution_count": 1,
   "id": "c7d0777f",
   "metadata": {},
   "outputs": [],
   "source": [
    "#importing numpy llibrary\n",
    "import numpy as np"
   ]
  },
  {
   "cell_type": "code",
   "execution_count": 3,
   "id": "0ddec06d",
   "metadata": {},
   "outputs": [
    {
     "data": {
      "text/plain": [
       "array([11, 22, 33, 44, 55])"
      ]
     },
     "execution_count": 3,
     "metadata": {},
     "output_type": "execute_result"
    }
   ],
   "source": [
    "#creating a number array\n",
    "#creating an array using a python list\n",
    "x = np.array([11,22,33,44,55])\n",
    "x"
   ]
  },
  {
   "cell_type": "markdown",
   "id": "a4179283",
   "metadata": {},
   "source": [
    "### Now we will apply some operation or functions on this numpy array"
   ]
  },
  {
   "cell_type": "code",
   "execution_count": 4,
   "id": "775f04f0",
   "metadata": {},
   "outputs": [
    {
     "data": {
      "text/plain": [
       "5"
      ]
     },
     "execution_count": 4,
     "metadata": {},
     "output_type": "execute_result"
    }
   ],
   "source": [
    "x.size"
   ]
  },
  {
   "cell_type": "code",
   "execution_count": 6,
   "id": "0c129893",
   "metadata": {},
   "outputs": [
    {
     "data": {
      "text/plain": [
       "(5,)"
      ]
     },
     "execution_count": 6,
     "metadata": {},
     "output_type": "execute_result"
    }
   ],
   "source": [
    "#shape of the array\n",
    "x.shape"
   ]
  },
  {
   "cell_type": "markdown",
   "id": "8d0c709e",
   "metadata": {},
   "source": [
    "(5, ) it means it is one dimensional array 1d array"
   ]
  },
  {
   "cell_type": "code",
   "execution_count": 7,
   "id": "9c0aae24",
   "metadata": {},
   "outputs": [
    {
     "data": {
      "text/plain": [
       "1"
      ]
     },
     "execution_count": 7,
     "metadata": {},
     "output_type": "execute_result"
    }
   ],
   "source": [
    "#dimension will also be check throgh ndim\n",
    "x.ndim"
   ]
  },
  {
   "cell_type": "code",
   "execution_count": 9,
   "id": "75306f11",
   "metadata": {},
   "outputs": [
    {
     "data": {
      "text/plain": [
       "array([0, 1, 2, 3, 4, 5, 6, 7, 8, 9])"
      ]
     },
     "execution_count": 9,
     "metadata": {},
     "output_type": "execute_result"
    }
   ],
   "source": [
    "arr1d = np.arange(10)\n",
    "arr1d"
   ]
  },
  {
   "cell_type": "code",
   "execution_count": 10,
   "id": "b7fe0bf3",
   "metadata": {},
   "outputs": [
    {
     "data": {
      "text/plain": [
       "[0, 1, 2, 3, 4, 5, 6, 7, 8, 9]"
      ]
     },
     "execution_count": 10,
     "metadata": {},
     "output_type": "execute_result"
    }
   ],
   "source": [
    "#Same as we have in python of range function\n",
    "list(range(10))"
   ]
  },
  {
   "cell_type": "markdown",
   "id": "fb65c984",
   "metadata": {},
   "source": [
    "Both has same output but numpy has array and python has list output."
   ]
  },
  {
   "cell_type": "markdown",
   "id": "1da2765f",
   "metadata": {},
   "source": [
    "# 2 dimensional array"
   ]
  },
  {
   "cell_type": "code",
   "execution_count": 11,
   "id": "01a8faeb",
   "metadata": {},
   "outputs": [
    {
     "data": {
      "text/plain": [
       "array([[11, 22, 33],\n",
       "       [44, 55, 66],\n",
       "       [77, 88, 99]])"
      ]
     },
     "execution_count": 11,
     "metadata": {},
     "output_type": "execute_result"
    }
   ],
   "source": [
    "arr2d = np.array([[11,22,33],[44,55,66],[77,88,99]])\n",
    "arr2d"
   ]
  },
  {
   "cell_type": "code",
   "execution_count": 12,
   "id": "5d693ae4",
   "metadata": {},
   "outputs": [
    {
     "data": {
      "text/plain": [
       "(3, 3)"
      ]
     },
     "execution_count": 12,
     "metadata": {},
     "output_type": "execute_result"
    }
   ],
   "source": [
    "#Now apply the operations\n",
    "arr2d.shape"
   ]
  },
  {
   "cell_type": "markdown",
   "id": "da0695ba",
   "metadata": {},
   "source": [
    "Here 3 rows and 3 columns"
   ]
  },
  {
   "cell_type": "code",
   "execution_count": 13,
   "id": "e44a2f3c",
   "metadata": {},
   "outputs": [
    {
     "data": {
      "text/plain": [
       "2"
      ]
     },
     "execution_count": 13,
     "metadata": {},
     "output_type": "execute_result"
    }
   ],
   "source": [
    "#dimensions\n",
    "arr2d.ndim"
   ]
  },
  {
   "cell_type": "code",
   "execution_count": 14,
   "id": "a576be7d",
   "metadata": {},
   "outputs": [
    {
     "data": {
      "text/plain": [
       "9"
      ]
     },
     "execution_count": 14,
     "metadata": {},
     "output_type": "execute_result"
    }
   ],
   "source": [
    "arr2d.size"
   ]
  },
  {
   "cell_type": "markdown",
   "id": "53f639d3",
   "metadata": {},
   "source": [
    "### Now we will use .reshape() to create some numpy arrays"
   ]
  },
  {
   "cell_type": "code",
   "execution_count": 17,
   "id": "4f8a01bd",
   "metadata": {},
   "outputs": [
    {
     "data": {
      "text/plain": [
       "array([[ 0,  1,  2,  3],\n",
       "       [ 4,  5,  6,  7],\n",
       "       [ 8,  9, 10, 11],\n",
       "       [12, 13, 14, 15],\n",
       "       [16, 17, 18, 19]])"
      ]
     },
     "execution_count": 17,
     "metadata": {},
     "output_type": "execute_result"
    }
   ],
   "source": [
    "arr = np.arange(20).reshape(5,4)\n",
    "arr\n",
    "#We can create the following array with arange(20)\n",
    "# arr2d = np.arange(20).reshape(20,1)\n",
    "# arr2d = np.arange(20).reshape(4,5)\n",
    "# arr2d = np.arange(20).reshape(10,10)"
   ]
  },
  {
   "cell_type": "code",
   "execution_count": 18,
   "id": "7ecc0b8b",
   "metadata": {},
   "outputs": [
    {
     "data": {
      "text/plain": [
       "numpy.ndarray"
      ]
     },
     "execution_count": 18,
     "metadata": {},
     "output_type": "execute_result"
    }
   ],
   "source": [
    "type(arr)"
   ]
  },
  {
   "cell_type": "code",
   "execution_count": 19,
   "id": "b0ae25ae",
   "metadata": {},
   "outputs": [
    {
     "data": {
      "text/plain": [
       "20"
      ]
     },
     "execution_count": 19,
     "metadata": {},
     "output_type": "execute_result"
    }
   ],
   "source": [
    "arr.size"
   ]
  },
  {
   "cell_type": "code",
   "execution_count": 20,
   "id": "53cc6431",
   "metadata": {},
   "outputs": [
    {
     "data": {
      "text/plain": [
       "2"
      ]
     },
     "execution_count": 20,
     "metadata": {},
     "output_type": "execute_result"
    }
   ],
   "source": [
    "arr.ndim"
   ]
  },
  {
   "cell_type": "code",
   "execution_count": 21,
   "id": "1fe7ab77",
   "metadata": {},
   "outputs": [
    {
     "data": {
      "text/plain": [
       "array([ 0,  1,  2,  3,  4,  5,  6,  7,  8,  9, 10, 11, 12, 13, 14, 15, 16,\n",
       "       17, 18, 19])"
      ]
     },
     "execution_count": 21,
     "metadata": {},
     "output_type": "execute_result"
    }
   ],
   "source": [
    "arr.flatten()"
   ]
  },
  {
   "cell_type": "code",
   "execution_count": 22,
   "id": "2c472847",
   "metadata": {},
   "outputs": [
    {
     "data": {
      "text/plain": [
       "array([ 0,  1,  2,  3,  4,  5,  6,  7,  8,  9, 10, 11, 12, 13, 14, 15, 16,\n",
       "       17, 18, 19])"
      ]
     },
     "execution_count": 22,
     "metadata": {},
     "output_type": "execute_result"
    }
   ],
   "source": [
    "arr.ravel()"
   ]
  },
  {
   "cell_type": "markdown",
   "id": "76212db2",
   "metadata": {},
   "source": [
    "# 3d array let have practics some 3d arrays"
   ]
  },
  {
   "cell_type": "code",
   "execution_count": 24,
   "id": "fe8dc823",
   "metadata": {},
   "outputs": [
    {
     "data": {
      "text/plain": [
       "array([[[ 0,  1,  2,  3],\n",
       "        [ 4,  5,  6,  7],\n",
       "        [ 8,  9, 10, 11],\n",
       "        [12, 13, 14, 15]],\n",
       "\n",
       "       [[16, 17, 18, 19],\n",
       "        [20, 21, 22, 23],\n",
       "        [24, 25, 26, 27],\n",
       "        [28, 29, 30, 31]],\n",
       "\n",
       "       [[32, 33, 34, 35],\n",
       "        [36, 37, 38, 39],\n",
       "        [40, 41, 42, 43],\n",
       "        [44, 45, 46, 47]],\n",
       "\n",
       "       [[48, 49, 50, 51],\n",
       "        [52, 53, 54, 55],\n",
       "        [56, 57, 58, 59],\n",
       "        [60, 61, 62, 63]]])"
      ]
     },
     "execution_count": 24,
     "metadata": {},
     "output_type": "execute_result"
    }
   ],
   "source": [
    "arr3d = np.arange(64).reshape(4,4,4) #4 is depth, row and columns\n",
    "arr3d\n",
    "#Here 9 is depth and second 4 is row and third 4 is columns"
   ]
  },
  {
   "cell_type": "code",
   "execution_count": 28,
   "id": "8f6fb4d8",
   "metadata": {},
   "outputs": [
    {
     "data": {
      "text/plain": [
       "array([[[  0,   1,   2,   3],\n",
       "        [  4,   5,   6,   7],\n",
       "        [  8,   9,  10,  11],\n",
       "        [ 12,  13,  14,  15]],\n",
       "\n",
       "       [[ 16,  17,  18,  19],\n",
       "        [ 20,  21,  22,  23],\n",
       "        [ 24,  25,  26,  27],\n",
       "        [ 28,  29,  30,  31]],\n",
       "\n",
       "       [[ 32,  33,  34,  35],\n",
       "        [ 36,  37,  38,  39],\n",
       "        [ 40,  41,  42,  43],\n",
       "        [ 44,  45,  46,  47]],\n",
       "\n",
       "       [[ 48,  49,  50,  51],\n",
       "        [ 52,  53,  54,  55],\n",
       "        [ 56,  57,  58,  59],\n",
       "        [ 60,  61,  62,  63]],\n",
       "\n",
       "       [[ 64,  65,  66,  67],\n",
       "        [ 68,  69,  70,  71],\n",
       "        [ 72,  73,  74,  75],\n",
       "        [ 76,  77,  78,  79]],\n",
       "\n",
       "       [[ 80,  81,  82,  83],\n",
       "        [ 84,  85,  86,  87],\n",
       "        [ 88,  89,  90,  91],\n",
       "        [ 92,  93,  94,  95]],\n",
       "\n",
       "       [[ 96,  97,  98,  99],\n",
       "        [100, 101, 102, 103],\n",
       "        [104, 105, 106, 107],\n",
       "        [108, 109, 110, 111]],\n",
       "\n",
       "       [[112, 113, 114, 115],\n",
       "        [116, 117, 118, 119],\n",
       "        [120, 121, 122, 123],\n",
       "        [124, 125, 126, 127]],\n",
       "\n",
       "       [[128, 129, 130, 131],\n",
       "        [132, 133, 134, 135],\n",
       "        [136, 137, 138, 139],\n",
       "        [140, 141, 142, 143]]])"
      ]
     },
     "execution_count": 28,
     "metadata": {},
     "output_type": "execute_result"
    }
   ],
   "source": [
    "arr3darray = np.arange(144).reshape(9,4,4)\n",
    "arr3darray\n",
    "#Here 9 is depth and 4 is row and 4 is columns"
   ]
  },
  {
   "cell_type": "markdown",
   "id": "85409e6c",
   "metadata": {},
   "source": [
    "### Now we are checking the slicing and indexing with the numpy array\n",
    "\n",
    "#### slicing\n",
    "#### array [row, col]\n",
    "###       [start:end, start:end] # this is sclicing"
   ]
  },
  {
   "cell_type": "code",
   "execution_count": 29,
   "id": "aef6bfa3",
   "metadata": {},
   "outputs": [
    {
     "data": {
      "text/plain": [
       "array([28, 29, 30, 31])"
      ]
     },
     "execution_count": 29,
     "metadata": {},
     "output_type": "execute_result"
    }
   ],
   "source": [
    "arr3darray[1,3]"
   ]
  },
  {
   "cell_type": "code",
   "execution_count": 31,
   "id": "d3278e6a",
   "metadata": {},
   "outputs": [
    {
     "data": {
      "text/plain": [
       "array([72, 73, 74, 75])"
      ]
     },
     "execution_count": 31,
     "metadata": {},
     "output_type": "execute_result"
    }
   ],
   "source": [
    "arr3darray[4,2]"
   ]
  },
  {
   "cell_type": "code",
   "execution_count": 36,
   "id": "5f230064",
   "metadata": {},
   "outputs": [
    {
     "data": {
      "text/plain": [
       "array([[[112, 113, 114, 115],\n",
       "        [116, 117, 118, 119],\n",
       "        [120, 121, 122, 123],\n",
       "        [124, 125, 126, 127]],\n",
       "\n",
       "       [[128, 129, 130, 131],\n",
       "        [132, 133, 134, 135],\n",
       "        [136, 137, 138, 139],\n",
       "        [140, 141, 142, 143]]])"
      ]
     },
     "execution_count": 36,
     "metadata": {},
     "output_type": "execute_result"
    }
   ],
   "source": [
    "arr3darray[7:]"
   ]
  },
  {
   "cell_type": "code",
   "execution_count": 37,
   "id": "bef492de",
   "metadata": {},
   "outputs": [
    {
     "data": {
      "text/plain": [
       "array([[[ 0,  1,  2,  3],\n",
       "        [ 4,  5,  6,  7],\n",
       "        [ 8,  9, 10, 11],\n",
       "        [12, 13, 14, 15]],\n",
       "\n",
       "       [[16, 17, 18, 19],\n",
       "        [20, 21, 22, 23],\n",
       "        [24, 25, 26, 27],\n",
       "        [28, 29, 30, 31]]])"
      ]
     },
     "execution_count": 37,
     "metadata": {},
     "output_type": "execute_result"
    }
   ],
   "source": [
    "arr3darray[: 2]"
   ]
  },
  {
   "cell_type": "code",
   "execution_count": 38,
   "id": "d8147fc6",
   "metadata": {},
   "outputs": [
    {
     "data": {
      "text/plain": [
       "array([24, 25, 26, 27])"
      ]
     },
     "execution_count": 38,
     "metadata": {},
     "output_type": "execute_result"
    }
   ],
   "source": [
    "arr3darray[1][2]"
   ]
  },
  {
   "cell_type": "code",
   "execution_count": 40,
   "id": "edff0985",
   "metadata": {},
   "outputs": [
    {
     "data": {
      "text/plain": [
       "array([56, 57, 58, 59])"
      ]
     },
     "execution_count": 40,
     "metadata": {},
     "output_type": "execute_result"
    }
   ],
   "source": [
    "arr3darray[3][2]"
   ]
  },
  {
   "cell_type": "code",
   "execution_count": 41,
   "id": "3a53a092",
   "metadata": {},
   "outputs": [
    {
     "data": {
      "text/plain": [
       "array([136, 137, 138, 139])"
      ]
     },
     "execution_count": 41,
     "metadata": {},
     "output_type": "execute_result"
    }
   ],
   "source": [
    "arr3darray[8][2]"
   ]
  },
  {
   "cell_type": "code",
   "execution_count": 42,
   "id": "21d23402",
   "metadata": {},
   "outputs": [
    {
     "data": {
      "text/plain": [
       "array([[[24, 25, 26, 27]]])"
      ]
     },
     "execution_count": 42,
     "metadata": {},
     "output_type": "execute_result"
    }
   ],
   "source": [
    "arr3darray[1:2, 2:3]"
   ]
  },
  {
   "cell_type": "code",
   "execution_count": 43,
   "id": "a634f008",
   "metadata": {},
   "outputs": [
    {
     "data": {
      "text/plain": [
       "array([[[ 0,  1,  2,  3],\n",
       "        [ 4,  5,  6,  7],\n",
       "        [ 8,  9, 10, 11],\n",
       "        [12, 13, 14, 15]],\n",
       "\n",
       "       [[16, 17, 18, 19],\n",
       "        [20, 21, 22, 23],\n",
       "        [24, 25, 26, 27],\n",
       "        [28, 29, 30, 31]]])"
      ]
     },
     "execution_count": 43,
     "metadata": {},
     "output_type": "execute_result"
    }
   ],
   "source": [
    "arr3d[:2]"
   ]
  },
  {
   "cell_type": "code",
   "execution_count": 45,
   "id": "3f1d059f",
   "metadata": {},
   "outputs": [
    {
     "data": {
      "text/plain": [
       "array([[[ 0,  1,  2,  3],\n",
       "        [ 4,  5,  6,  7],\n",
       "        [ 8,  9, 10, 11],\n",
       "        [12, 13, 14, 15]],\n",
       "\n",
       "       [[16, 17, 18, 19],\n",
       "        [20, 21, 22, 23],\n",
       "        [24, 25, 26, 27],\n",
       "        [28, 29, 30, 31]],\n",
       "\n",
       "       [[32, 33, 34, 35],\n",
       "        [36, 37, 38, 39],\n",
       "        [40, 41, 42, 43],\n",
       "        [44, 45, 46, 47]],\n",
       "\n",
       "       [[48, 49, 50, 51],\n",
       "        [52, 53, 54, 55],\n",
       "        [56, 57, 58, 59],\n",
       "        [60, 61, 62, 63]]])"
      ]
     },
     "execution_count": 45,
     "metadata": {},
     "output_type": "execute_result"
    }
   ],
   "source": [
    "arr3d"
   ]
  },
  {
   "cell_type": "code",
   "execution_count": 47,
   "id": "3d1a8da3",
   "metadata": {},
   "outputs": [
    {
     "data": {
      "text/plain": [
       "array([[[28, 29, 30, 31]],\n",
       "\n",
       "       [[44, 45, 46, 47]],\n",
       "\n",
       "       [[60, 61, 62, 63]]])"
      ]
     },
     "execution_count": 47,
     "metadata": {},
     "output_type": "execute_result"
    }
   ],
   "source": [
    "arr3d[1:4, 3:4]"
   ]
  },
  {
   "cell_type": "code",
   "execution_count": 48,
   "id": "a91a0116",
   "metadata": {},
   "outputs": [
    {
     "data": {
      "text/plain": [
       "array([[[24, 25, 26, 27]],\n",
       "\n",
       "       [[40, 41, 42, 43]],\n",
       "\n",
       "       [[56, 57, 58, 59]]])"
      ]
     },
     "execution_count": 48,
     "metadata": {},
     "output_type": "execute_result"
    }
   ],
   "source": [
    "arr3d[1:4, 2:3]"
   ]
  },
  {
   "cell_type": "markdown",
   "id": "12604dbd",
   "metadata": {},
   "source": [
    "# Querrying Array"
   ]
  },
  {
   "cell_type": "code",
   "execution_count": 51,
   "id": "a3ea6904",
   "metadata": {},
   "outputs": [],
   "source": [
    "a = np.arange(24).reshape(6,4)"
   ]
  },
  {
   "cell_type": "code",
   "execution_count": 52,
   "id": "42063bcc",
   "metadata": {},
   "outputs": [
    {
     "data": {
      "text/plain": [
       "array([[ 0,  1,  2,  3],\n",
       "       [ 4,  5,  6,  7],\n",
       "       [ 8,  9, 10, 11],\n",
       "       [12, 13, 14, 15],\n",
       "       [16, 17, 18, 19],\n",
       "       [20, 21, 22, 23]])"
      ]
     },
     "execution_count": 52,
     "metadata": {},
     "output_type": "execute_result"
    }
   ],
   "source": [
    "a"
   ]
  },
  {
   "cell_type": "code",
   "execution_count": 53,
   "id": "0f466397",
   "metadata": {},
   "outputs": [],
   "source": [
    "mask = a >5"
   ]
  },
  {
   "cell_type": "code",
   "execution_count": 54,
   "id": "c055f219",
   "metadata": {},
   "outputs": [
    {
     "data": {
      "text/plain": [
       "array([[False, False, False, False],\n",
       "       [False, False,  True,  True],\n",
       "       [ True,  True,  True,  True],\n",
       "       [ True,  True,  True,  True],\n",
       "       [ True,  True,  True,  True],\n",
       "       [ True,  True,  True,  True]])"
      ]
     },
     "execution_count": 54,
     "metadata": {},
     "output_type": "execute_result"
    }
   ],
   "source": [
    "mask"
   ]
  },
  {
   "cell_type": "code",
   "execution_count": 55,
   "id": "ba9b0f75",
   "metadata": {},
   "outputs": [],
   "source": [
    "mask = a[a>5]"
   ]
  },
  {
   "cell_type": "code",
   "execution_count": 56,
   "id": "8c633580",
   "metadata": {},
   "outputs": [
    {
     "data": {
      "text/plain": [
       "array([ 6,  7,  8,  9, 10, 11, 12, 13, 14, 15, 16, 17, 18, 19, 20, 21, 22,\n",
       "       23])"
      ]
     },
     "execution_count": 56,
     "metadata": {},
     "output_type": "execute_result"
    }
   ],
   "source": [
    "mask"
   ]
  },
  {
   "cell_type": "code",
   "execution_count": 57,
   "id": "baa35b86",
   "metadata": {},
   "outputs": [],
   "source": [
    "#Now assign values 100 to greater 15\n",
    "a[a>15] = 100"
   ]
  },
  {
   "cell_type": "code",
   "execution_count": 58,
   "id": "c33a8fc2",
   "metadata": {},
   "outputs": [
    {
     "data": {
      "text/plain": [
       "array([[  0,   1,   2,   3],\n",
       "       [  4,   5,   6,   7],\n",
       "       [  8,   9,  10,  11],\n",
       "       [ 12,  13,  14,  15],\n",
       "       [100, 100, 100, 100],\n",
       "       [100, 100, 100, 100]])"
      ]
     },
     "execution_count": 58,
     "metadata": {},
     "output_type": "execute_result"
    }
   ],
   "source": [
    "a"
   ]
  },
  {
   "cell_type": "code",
   "execution_count": 61,
   "id": "69b729f9",
   "metadata": {},
   "outputs": [],
   "source": [
    "#It will be done with where function\n",
    "a_ = np.where(a>12, 0,a)"
   ]
  },
  {
   "cell_type": "code",
   "execution_count": 62,
   "id": "025d4f10",
   "metadata": {},
   "outputs": [
    {
     "data": {
      "text/plain": [
       "array([[ 0,  1,  2,  3],\n",
       "       [ 4,  5,  6,  7],\n",
       "       [ 8,  9, 10, 11],\n",
       "       [12,  0,  0,  0],\n",
       "       [ 0,  0,  0,  0],\n",
       "       [ 0,  0,  0,  0]])"
      ]
     },
     "execution_count": 62,
     "metadata": {},
     "output_type": "execute_result"
    }
   ],
   "source": [
    "a_"
   ]
  },
  {
   "cell_type": "code",
   "execution_count": 64,
   "id": "7c644cc4",
   "metadata": {},
   "outputs": [
    {
     "data": {
      "text/plain": [
       "array([  0,   2,   4,   6,   8,  10,  12,  14, 100, 100, 100, 100, 100,\n",
       "       100, 100, 100])"
      ]
     },
     "execution_count": 64,
     "metadata": {},
     "output_type": "execute_result"
    }
   ],
   "source": [
    "#Comprehension conditions\n",
    "a[(a%2==0 & (a%8==0))]"
   ]
  },
  {
   "cell_type": "code",
   "execution_count": 65,
   "id": "5f244ac9",
   "metadata": {},
   "outputs": [
    {
     "data": {
      "text/plain": [
       "array([  0,   2,   4,   6,   8,  10,  12,  14, 100, 100, 100, 100, 100,\n",
       "       100, 100, 100])"
      ]
     },
     "execution_count": 65,
     "metadata": {},
     "output_type": "execute_result"
    }
   ],
   "source": [
    "a[(a%2==0 & (a%7==0))]"
   ]
  },
  {
   "cell_type": "code",
   "execution_count": 66,
   "id": "b135a8ce",
   "metadata": {},
   "outputs": [
    {
     "data": {
      "text/plain": [
       "array([['Wow', 'OH', 'OH', 'OH'],\n",
       "       ['OH', 'OH', 'OH', 'OH'],\n",
       "       ['OH', 'OH', 'OH', 'OH'],\n",
       "       ['OH', 'OH', 'Wow', 'OH'],\n",
       "       ['OH', 'OH', 'OH', 'OH'],\n",
       "       ['OH', 'OH', 'OH', 'OH']], dtype='<U3')"
      ]
     },
     "execution_count": 66,
     "metadata": {},
     "output_type": "execute_result"
    }
   ],
   "source": [
    "np.where((a%2==0) & (a%7==0), \"Wow\", \"OH\")"
   ]
  },
  {
   "cell_type": "code",
   "execution_count": 67,
   "id": "09450eb2",
   "metadata": {},
   "outputs": [
    {
     "data": {
      "text/plain": [
       "array([['Wow', 'OH', 'Wow', 'OH'],\n",
       "       ['Wow', 'OH', 'Wow', 'Wow'],\n",
       "       ['Wow', 'OH', 'Wow', 'OH'],\n",
       "       ['Wow', 'OH', 'Wow', 'OH'],\n",
       "       ['Wow', 'Wow', 'Wow', 'Wow'],\n",
       "       ['Wow', 'Wow', 'Wow', 'Wow']], dtype='<U3')"
      ]
     },
     "execution_count": 67,
     "metadata": {},
     "output_type": "execute_result"
    }
   ],
   "source": [
    "np.where((a%2==0) | (a%7==0), \"Wow\", \"OH\")"
   ]
  },
  {
   "cell_type": "code",
   "execution_count": 69,
   "id": "37662dca",
   "metadata": {},
   "outputs": [
    {
     "data": {
      "text/plain": [
       "array([['No', 'No', 'No', 'No'],\n",
       "       ['No', 'No', 'No', 'No'],\n",
       "       ['No', 'No', 'No', 'No'],\n",
       "       ['No', 'No', 'No', 'No'],\n",
       "       ['Yes', 'Yes', 'Yes', 'Yes'],\n",
       "       ['Yes', 'Yes', 'Yes', 'Yes']], dtype='<U3')"
      ]
     },
     "execution_count": 69,
     "metadata": {},
     "output_type": "execute_result"
    }
   ],
   "source": [
    "np.where((a>15) & (a%2==0), \"Yes\", \"No\")"
   ]
  },
  {
   "cell_type": "markdown",
   "id": "3f71bdee",
   "metadata": {},
   "source": [
    "### How Cancatenation work"
   ]
  },
  {
   "cell_type": "code",
   "execution_count": 70,
   "id": "a93d5809",
   "metadata": {},
   "outputs": [],
   "source": [
    "a = np.arange(25).reshape(5,5)\n",
    "b = np.arange(25, 50).reshape(5,5)"
   ]
  },
  {
   "cell_type": "code",
   "execution_count": 71,
   "id": "1e707b00",
   "metadata": {},
   "outputs": [
    {
     "data": {
      "text/plain": [
       "array([[ 0,  1,  2,  3,  4],\n",
       "       [ 5,  6,  7,  8,  9],\n",
       "       [10, 11, 12, 13, 14],\n",
       "       [15, 16, 17, 18, 19],\n",
       "       [20, 21, 22, 23, 24]])"
      ]
     },
     "execution_count": 71,
     "metadata": {},
     "output_type": "execute_result"
    }
   ],
   "source": [
    "a"
   ]
  },
  {
   "cell_type": "code",
   "execution_count": 72,
   "id": "7b52f443",
   "metadata": {},
   "outputs": [
    {
     "data": {
      "text/plain": [
       "array([[25, 26, 27, 28, 29],\n",
       "       [30, 31, 32, 33, 34],\n",
       "       [35, 36, 37, 38, 39],\n",
       "       [40, 41, 42, 43, 44],\n",
       "       [45, 46, 47, 48, 49]])"
      ]
     },
     "execution_count": 72,
     "metadata": {},
     "output_type": "execute_result"
    }
   ],
   "source": [
    "b"
   ]
  },
  {
   "cell_type": "code",
   "execution_count": 73,
   "id": "6274c7e5",
   "metadata": {},
   "outputs": [
    {
     "data": {
      "text/plain": [
       "array([[ 0,  1,  2,  3,  4],\n",
       "       [ 5,  6,  7,  8,  9],\n",
       "       [10, 11, 12, 13, 14],\n",
       "       [15, 16, 17, 18, 19],\n",
       "       [20, 21, 22, 23, 24],\n",
       "       [25, 26, 27, 28, 29],\n",
       "       [30, 31, 32, 33, 34],\n",
       "       [35, 36, 37, 38, 39],\n",
       "       [40, 41, 42, 43, 44],\n",
       "       [45, 46, 47, 48, 49]])"
      ]
     },
     "execution_count": 73,
     "metadata": {},
     "output_type": "execute_result"
    }
   ],
   "source": [
    "np.concatenate((a,b)) #by default it will concatenate by row"
   ]
  },
  {
   "cell_type": "code",
   "execution_count": 75,
   "id": "eb9f19fa",
   "metadata": {},
   "outputs": [
    {
     "data": {
      "text/plain": [
       "array([[ 0,  1,  2,  3,  4, 25, 26, 27, 28, 29],\n",
       "       [ 5,  6,  7,  8,  9, 30, 31, 32, 33, 34],\n",
       "       [10, 11, 12, 13, 14, 35, 36, 37, 38, 39],\n",
       "       [15, 16, 17, 18, 19, 40, 41, 42, 43, 44],\n",
       "       [20, 21, 22, 23, 24, 45, 46, 47, 48, 49]])"
      ]
     },
     "execution_count": 75,
     "metadata": {},
     "output_type": "execute_result"
    }
   ],
   "source": [
    "np.concatenate((a,b), axis=1) #if axis will given by axis=1 it will concate by columns"
   ]
  },
  {
   "cell_type": "markdown",
   "id": "4c763620",
   "metadata": {},
   "source": [
    "### Now we will use stack and hstack vstack method to concatenate"
   ]
  },
  {
   "cell_type": "code",
   "execution_count": 78,
   "id": "eec04b83",
   "metadata": {},
   "outputs": [
    {
     "data": {
      "text/plain": [
       "array([[[ 0,  1,  2,  3,  4],\n",
       "        [ 5,  6,  7,  8,  9],\n",
       "        [10, 11, 12, 13, 14],\n",
       "        [15, 16, 17, 18, 19],\n",
       "        [20, 21, 22, 23, 24]],\n",
       "\n",
       "       [[25, 26, 27, 28, 29],\n",
       "        [30, 31, 32, 33, 34],\n",
       "        [35, 36, 37, 38, 39],\n",
       "        [40, 41, 42, 43, 44],\n",
       "        [45, 46, 47, 48, 49]]])"
      ]
     },
     "execution_count": 78,
     "metadata": {},
     "output_type": "execute_result"
    }
   ],
   "source": [
    "np.stack((a,b)) "
   ]
  },
  {
   "cell_type": "code",
   "execution_count": 79,
   "id": "94b7b75e",
   "metadata": {},
   "outputs": [
    {
     "data": {
      "text/plain": [
       "array([[ 0,  1,  2,  3,  4, 25, 26, 27, 28, 29],\n",
       "       [ 5,  6,  7,  8,  9, 30, 31, 32, 33, 34],\n",
       "       [10, 11, 12, 13, 14, 35, 36, 37, 38, 39],\n",
       "       [15, 16, 17, 18, 19, 40, 41, 42, 43, 44],\n",
       "       [20, 21, 22, 23, 24, 45, 46, 47, 48, 49]])"
      ]
     },
     "execution_count": 79,
     "metadata": {},
     "output_type": "execute_result"
    }
   ],
   "source": [
    "np.hstack((a,b)) #hstack means horizontally concatenate"
   ]
  },
  {
   "cell_type": "code",
   "execution_count": 80,
   "id": "3129e2ed",
   "metadata": {},
   "outputs": [
    {
     "data": {
      "text/plain": [
       "array([[ 0,  1,  2,  3,  4],\n",
       "       [ 5,  6,  7,  8,  9],\n",
       "       [10, 11, 12, 13, 14],\n",
       "       [15, 16, 17, 18, 19],\n",
       "       [20, 21, 22, 23, 24],\n",
       "       [25, 26, 27, 28, 29],\n",
       "       [30, 31, 32, 33, 34],\n",
       "       [35, 36, 37, 38, 39],\n",
       "       [40, 41, 42, 43, 44],\n",
       "       [45, 46, 47, 48, 49]])"
      ]
     },
     "execution_count": 80,
     "metadata": {},
     "output_type": "execute_result"
    }
   ],
   "source": [
    "np.vstack((a,b)) #vstack mean vertically stack"
   ]
  },
  {
   "cell_type": "markdown",
   "id": "95d95c63",
   "metadata": {},
   "source": [
    "# Vectorization with numpy"
   ]
  },
  {
   "cell_type": "code",
   "execution_count": 82,
   "id": "9f928721",
   "metadata": {},
   "outputs": [
    {
     "data": {
      "text/plain": [
       "array([[0, 1, 2, 3, 4],\n",
       "       [5, 6, 7, 8, 9]])"
      ]
     },
     "execution_count": 82,
     "metadata": {},
     "output_type": "execute_result"
    }
   ],
   "source": [
    "x = np.arange(10).reshape(2,5)\n",
    "x"
   ]
  },
  {
   "cell_type": "code",
   "execution_count": 86,
   "id": "5b568891",
   "metadata": {},
   "outputs": [
    {
     "data": {
      "text/plain": [
       "array([[0, 1, 2, 3, 4],\n",
       "       [5, 6, 7, 8, 9]])"
      ]
     },
     "execution_count": 86,
     "metadata": {},
     "output_type": "execute_result"
    }
   ],
   "source": [
    "y  = np.arange(10).reshape(2,5)\n",
    "y"
   ]
  },
  {
   "cell_type": "code",
   "execution_count": 87,
   "id": "828fca76",
   "metadata": {},
   "outputs": [
    {
     "data": {
      "text/plain": [
       "array([[ 0,  2,  4,  6,  8],\n",
       "       [10, 12, 14, 16, 18]])"
      ]
     },
     "execution_count": 87,
     "metadata": {},
     "output_type": "execute_result"
    }
   ],
   "source": [
    "#Now you can simple apply calculations like additions, substraction ect\n",
    "#Addition\n",
    "x + y"
   ]
  },
  {
   "cell_type": "code",
   "execution_count": 88,
   "id": "91b0302d",
   "metadata": {},
   "outputs": [
    {
     "data": {
      "text/plain": [
       "array([[ 0,  1,  4,  9, 16],\n",
       "       [25, 36, 49, 64, 81]])"
      ]
     },
     "execution_count": 88,
     "metadata": {},
     "output_type": "execute_result"
    }
   ],
   "source": [
    "#Multiplications\n",
    "x * y"
   ]
  },
  {
   "cell_type": "code",
   "execution_count": 91,
   "id": "148bf206",
   "metadata": {},
   "outputs": [
    {
     "name": "stderr",
     "output_type": "stream",
     "text": [
      "C:\\Users\\Muhammad Hassan\\AppData\\Local\\Temp\\ipykernel_6436\\2738801828.py:2: RuntimeWarning: divide by zero encountered in floor_divide\n",
      "  y // x\n"
     ]
    },
    {
     "data": {
      "text/plain": [
       "array([[0, 1, 1, 1, 1],\n",
       "       [1, 1, 1, 1, 1]])"
      ]
     },
     "execution_count": 91,
     "metadata": {},
     "output_type": "execute_result"
    }
   ],
   "source": [
    "#Divisions integer value\n",
    "y // x"
   ]
  },
  {
   "cell_type": "code",
   "execution_count": 92,
   "id": "a9893a90",
   "metadata": {},
   "outputs": [
    {
     "name": "stderr",
     "output_type": "stream",
     "text": [
      "C:\\Users\\Muhammad Hassan\\AppData\\Local\\Temp\\ipykernel_6436\\3463157264.py:2: RuntimeWarning: invalid value encountered in divide\n",
      "  y / x\n"
     ]
    },
    {
     "data": {
      "text/plain": [
       "array([[nan,  1.,  1.,  1.,  1.],\n",
       "       [ 1.,  1.,  1.,  1.,  1.]])"
      ]
     },
     "execution_count": 92,
     "metadata": {},
     "output_type": "execute_result"
    }
   ],
   "source": [
    "#Division floating point\n",
    "y / x"
   ]
  },
  {
   "cell_type": "code",
   "execution_count": 93,
   "id": "4275677a",
   "metadata": {},
   "outputs": [
    {
     "data": {
      "text/plain": [
       "array([[10, 11, 12, 13, 14],\n",
       "       [15, 16, 17, 18, 19]])"
      ]
     },
     "execution_count": 93,
     "metadata": {},
     "output_type": "execute_result"
    }
   ],
   "source": [
    "x + 10"
   ]
  },
  {
   "cell_type": "markdown",
   "id": "48b7498d",
   "metadata": {},
   "source": [
    "# Built in Functions"
   ]
  },
  {
   "cell_type": "code",
   "execution_count": 96,
   "id": "f7de2222",
   "metadata": {},
   "outputs": [
    {
     "data": {
      "text/plain": [
       "array([[1., 1.],\n",
       "       [1., 1.],\n",
       "       [1., 1.],\n",
       "       [1., 1.],\n",
       "       [1., 1.]])"
      ]
     },
     "execution_count": 96,
     "metadata": {},
     "output_type": "execute_result"
    }
   ],
   "source": [
    "np.ones(10).reshape(5,2)"
   ]
  },
  {
   "cell_type": "code",
   "execution_count": 97,
   "id": "2fda46f4",
   "metadata": {},
   "outputs": [
    {
     "data": {
      "text/plain": [
       "array([[0., 0., 0., 0., 0.],\n",
       "       [0., 0., 0., 0., 0.],\n",
       "       [0., 0., 0., 0., 0.],\n",
       "       [0., 0., 0., 0., 0.],\n",
       "       [0., 0., 0., 0., 0.]])"
      ]
     },
     "execution_count": 97,
     "metadata": {},
     "output_type": "execute_result"
    }
   ],
   "source": [
    "np.zeros(25).reshape(5,5)"
   ]
  },
  {
   "cell_type": "code",
   "execution_count": 110,
   "id": "a3ff4454",
   "metadata": {},
   "outputs": [
    {
     "data": {
      "text/plain": [
       "array([[1., 0., 0., 0., 0., 0., 0., 0., 0., 0.],\n",
       "       [0., 1., 0., 0., 0., 0., 0., 0., 0., 0.],\n",
       "       [0., 0., 1., 0., 0., 0., 0., 0., 0., 0.],\n",
       "       [0., 0., 0., 1., 0., 0., 0., 0., 0., 0.],\n",
       "       [0., 0., 0., 0., 1., 0., 0., 0., 0., 0.],\n",
       "       [0., 0., 0., 0., 0., 1., 0., 0., 0., 0.],\n",
       "       [0., 0., 0., 0., 0., 0., 1., 0., 0., 0.],\n",
       "       [0., 0., 0., 0., 0., 0., 0., 1., 0., 0.],\n",
       "       [0., 0., 0., 0., 0., 0., 0., 0., 1., 0.],\n",
       "       [0., 0., 0., 0., 0., 0., 0., 0., 0., 1.]])"
      ]
     },
     "execution_count": 110,
     "metadata": {},
     "output_type": "execute_result"
    }
   ],
   "source": [
    "np.identity(10)"
   ]
  },
  {
   "cell_type": "code",
   "execution_count": 111,
   "id": "22ea02ee",
   "metadata": {},
   "outputs": [],
   "source": [
    "z = np.arange(25).reshape(5,5)"
   ]
  },
  {
   "cell_type": "code",
   "execution_count": 112,
   "id": "ab96ba5c",
   "metadata": {},
   "outputs": [
    {
     "data": {
      "text/plain": [
       "array([[ 0,  1,  2,  3,  4],\n",
       "       [ 5,  6,  7,  8,  9],\n",
       "       [10, 11, 12, 13, 14],\n",
       "       [15, 16, 17, 18, 19],\n",
       "       [20, 21, 22, 23, 24]])"
      ]
     },
     "execution_count": 112,
     "metadata": {},
     "output_type": "execute_result"
    }
   ],
   "source": [
    "z"
   ]
  },
  {
   "cell_type": "code",
   "execution_count": 113,
   "id": "dc4579c6",
   "metadata": {},
   "outputs": [
    {
     "data": {
      "text/plain": [
       "array([[ 0,  5, 10, 15, 20],\n",
       "       [ 1,  6, 11, 16, 21],\n",
       "       [ 2,  7, 12, 17, 22],\n",
       "       [ 3,  8, 13, 18, 23],\n",
       "       [ 4,  9, 14, 19, 24]])"
      ]
     },
     "execution_count": 113,
     "metadata": {},
     "output_type": "execute_result"
    }
   ],
   "source": [
    "z.T"
   ]
  },
  {
   "cell_type": "code",
   "execution_count": 114,
   "id": "50e7749a",
   "metadata": {},
   "outputs": [
    {
     "data": {
      "text/plain": [
       "array([[ 0,  5, 10, 15, 20],\n",
       "       [ 1,  6, 11, 16, 21],\n",
       "       [ 2,  7, 12, 17, 22],\n",
       "       [ 3,  8, 13, 18, 23],\n",
       "       [ 4,  9, 14, 19, 24]])"
      ]
     },
     "execution_count": 114,
     "metadata": {},
     "output_type": "execute_result"
    }
   ],
   "source": [
    "z.transpose()"
   ]
  },
  {
   "cell_type": "markdown",
   "id": "8d669ac4",
   "metadata": {},
   "source": [
    "Both T and transpose are working same."
   ]
  },
  {
   "cell_type": "markdown",
   "id": "2d708d00",
   "metadata": {},
   "source": [
    "# We can use some statistical formula "
   ]
  },
  {
   "cell_type": "code",
   "execution_count": 115,
   "id": "6f5e7614",
   "metadata": {},
   "outputs": [
    {
     "data": {
      "text/plain": [
       "12.0"
      ]
     },
     "execution_count": 115,
     "metadata": {},
     "output_type": "execute_result"
    }
   ],
   "source": [
    "z.mean()"
   ]
  },
  {
   "cell_type": "code",
   "execution_count": 118,
   "id": "22cdbe46",
   "metadata": {},
   "outputs": [
    {
     "data": {
      "text/plain": [
       "24"
      ]
     },
     "execution_count": 118,
     "metadata": {},
     "output_type": "execute_result"
    }
   ],
   "source": [
    "z.max()"
   ]
  },
  {
   "cell_type": "code",
   "execution_count": 119,
   "id": "5904e14c",
   "metadata": {},
   "outputs": [
    {
     "data": {
      "text/plain": [
       "0"
      ]
     },
     "execution_count": 119,
     "metadata": {},
     "output_type": "execute_result"
    }
   ],
   "source": [
    "z.min()"
   ]
  },
  {
   "cell_type": "code",
   "execution_count": 120,
   "id": "14532c55",
   "metadata": {},
   "outputs": [
    {
     "data": {
      "text/plain": [
       "array([  0,   1,   3,   6,  10,  15,  21,  28,  36,  45,  55,  66,  78,\n",
       "        91, 105, 120, 136, 153, 171, 190, 210, 231, 253, 276, 300])"
      ]
     },
     "execution_count": 120,
     "metadata": {},
     "output_type": "execute_result"
    }
   ],
   "source": [
    "z.cumsum()"
   ]
  },
  {
   "cell_type": "code",
   "execution_count": 121,
   "id": "66a72d4c",
   "metadata": {},
   "outputs": [
    {
     "data": {
      "text/plain": [
       "array([0, 0, 0, 0, 0, 0, 0, 0, 0, 0, 0, 0, 0, 0, 0, 0, 0, 0, 0, 0, 0, 0,\n",
       "       0, 0, 0])"
      ]
     },
     "execution_count": 121,
     "metadata": {},
     "output_type": "execute_result"
    }
   ],
   "source": [
    "z.cumprod()"
   ]
  },
  {
   "cell_type": "code",
   "execution_count": 122,
   "id": "2e946031",
   "metadata": {},
   "outputs": [
    {
     "data": {
      "text/plain": [
       "array(['Male', 'Female', 'Male', 'Male', 'Female', 'Male'], dtype='<U6')"
      ]
     },
     "execution_count": 122,
     "metadata": {},
     "output_type": "execute_result"
    }
   ],
   "source": [
    "gender = np.array([\"Male\", \"Female\", \"Male\", \"Male\", \"Female\", \"Male\"])\n",
    "gender"
   ]
  },
  {
   "cell_type": "code",
   "execution_count": 123,
   "id": "85fb9660",
   "metadata": {},
   "outputs": [],
   "source": [
    "arr = gender == \"Male\""
   ]
  },
  {
   "cell_type": "code",
   "execution_count": 124,
   "id": "785fde08",
   "metadata": {},
   "outputs": [
    {
     "data": {
      "text/plain": [
       "array([ True, False,  True,  True, False,  True])"
      ]
     },
     "execution_count": 124,
     "metadata": {},
     "output_type": "execute_result"
    }
   ],
   "source": [
    "arr"
   ]
  },
  {
   "cell_type": "code",
   "execution_count": 125,
   "id": "c8af9d9d",
   "metadata": {},
   "outputs": [
    {
     "data": {
      "text/plain": [
       "2"
      ]
     },
     "execution_count": 125,
     "metadata": {},
     "output_type": "execute_result"
    }
   ],
   "source": [
    "arr = gender == \"Female\"\n",
    "arr.sum()"
   ]
  },
  {
   "cell_type": "code",
   "execution_count": 126,
   "id": "99f4e8fc",
   "metadata": {},
   "outputs": [],
   "source": [
    "arr = np.array([1,2,4,1,6,2])"
   ]
  },
  {
   "cell_type": "code",
   "execution_count": 127,
   "id": "bcf1d831",
   "metadata": {},
   "outputs": [
    {
     "data": {
      "text/plain": [
       "array([1, 2, 4, 1, 6, 2])"
      ]
     },
     "execution_count": 127,
     "metadata": {},
     "output_type": "execute_result"
    }
   ],
   "source": [
    "arr"
   ]
  },
  {
   "cell_type": "code",
   "execution_count": 133,
   "id": "71f90f02",
   "metadata": {},
   "outputs": [
    {
     "data": {
      "text/plain": [
       "array([1, 2, 4, 6])"
      ]
     },
     "execution_count": 133,
     "metadata": {},
     "output_type": "execute_result"
    }
   ],
   "source": [
    "a = np.unique(arr)\n",
    "a"
   ]
  },
  {
   "cell_type": "markdown",
   "id": "e249e2df",
   "metadata": {},
   "source": [
    "####  Now we will discuss the processing speed of Numpy array and List\n",
    "Arrays\n",
    "1. Faster\n",
    "2. Contigous memory allocation\n",
    "3. Same data type\n",
    "4. If you want to increase size, recreate array\n",
    "\n",
    "List\n",
    "1. Slow\n",
    "2. Sparse memory\n",
    "3. Different data types\n",
    "4. Can dynamically grow"
   ]
  },
  {
   "cell_type": "code",
   "execution_count": 2,
   "id": "53238a59",
   "metadata": {},
   "outputs": [],
   "source": [
    "python_list = range(100000) #A list from 0 to 100000"
   ]
  },
  {
   "cell_type": "code",
   "execution_count": 3,
   "id": "8e17e7c8",
   "metadata": {},
   "outputs": [],
   "source": [
    "numpy_array = np.arange(100000)"
   ]
  },
  {
   "cell_type": "code",
   "execution_count": 5,
   "id": "262c41da",
   "metadata": {},
   "outputs": [
    {
     "name": "stdout",
     "output_type": "stream",
     "text": [
      "Wall time: 883 ms\n"
     ]
    }
   ],
   "source": [
    "%time for i in range(100):results = [i*5 for i in python_list]"
   ]
  },
  {
   "cell_type": "code",
   "execution_count": 6,
   "id": "1c9814de",
   "metadata": {},
   "outputs": [
    {
     "name": "stdout",
     "output_type": "stream",
     "text": [
      "Wall time: 53 ms\n"
     ]
    }
   ],
   "source": [
    "%time for i in range(100): result = numpy_array * 5"
   ]
  },
  {
   "cell_type": "markdown",
   "id": "db03f0db",
   "metadata": {},
   "source": [
    "Now the result of python list is  = 883 ms while numpy array is just 53 ms "
   ]
  },
  {
   "cell_type": "code",
   "execution_count": null,
   "id": "ddbb36ec",
   "metadata": {},
   "outputs": [],
   "source": []
  }
 ],
 "metadata": {
  "kernelspec": {
   "display_name": "Python 3 (ipykernel)",
   "language": "python",
   "name": "python3"
  },
  "language_info": {
   "codemirror_mode": {
    "name": "ipython",
    "version": 3
   },
   "file_extension": ".py",
   "mimetype": "text/x-python",
   "name": "python",
   "nbconvert_exporter": "python",
   "pygments_lexer": "ipython3",
   "version": "3.9.13"
  }
 },
 "nbformat": 4,
 "nbformat_minor": 5
}
