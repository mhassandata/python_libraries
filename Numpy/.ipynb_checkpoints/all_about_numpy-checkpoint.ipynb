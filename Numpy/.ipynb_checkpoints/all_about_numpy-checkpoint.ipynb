{
 "cells": [
  {
   "cell_type": "markdown",
   "id": "71d7e9b6",
   "metadata": {},
   "source": [
    "# Numpy \n",
    "Numpy Numerical Python (NumPy) is an open source Python library for scientific computing. NumPy provides a host of features that allow a Python programmer to work with high-performance arrays and matrices.\n",
    "Following are some features of Numpy\n",
    "\n",
    "\n",
    "    - Numerical Python\n",
    "    - Numerical Array\n",
    "    - Fastest \n",
    "    - Vectorize Operation\n",
    "    - Contigious Memory\n",
    "    "
   ]
  },
  {
   "cell_type": "code",
   "execution_count": 1,
   "id": "b7f1e0d8",
   "metadata": {},
   "outputs": [],
   "source": [
    "#importing numpy llibrary\n",
    "import numpy as np"
   ]
  },
  {
   "cell_type": "code",
   "execution_count": 3,
   "id": "6ba69eae",
   "metadata": {},
   "outputs": [
    {
     "data": {
      "text/plain": [
       "array([11, 22, 33, 44, 55])"
      ]
     },
     "execution_count": 3,
     "metadata": {},
     "output_type": "execute_result"
    }
   ],
   "source": [
    "#creating a number array\n",
    "#creating an array using a python list\n",
    "x = np.array([11,22,33,44,55])\n",
    "x"
   ]
  },
  {
   "cell_type": "markdown",
   "id": "8b2d5b9c",
   "metadata": {},
   "source": [
    "### Now we will apply some operation or functions on this numpy array"
   ]
  },
  {
   "cell_type": "code",
   "execution_count": 4,
   "id": "13e77497",
   "metadata": {},
   "outputs": [
    {
     "data": {
      "text/plain": [
       "5"
      ]
     },
     "execution_count": 4,
     "metadata": {},
     "output_type": "execute_result"
    }
   ],
   "source": [
    "x.size"
   ]
  },
  {
   "cell_type": "code",
   "execution_count": 6,
   "id": "3f7f3968",
   "metadata": {},
   "outputs": [
    {
     "data": {
      "text/plain": [
       "(5,)"
      ]
     },
     "execution_count": 6,
     "metadata": {},
     "output_type": "execute_result"
    }
   ],
   "source": [
    "#shape of the array\n",
    "x.shape"
   ]
  },
  {
   "cell_type": "markdown",
   "id": "644c0eaa",
   "metadata": {},
   "source": [
    "(5, ) it means it is one dimensional array 1d array"
   ]
  },
  {
   "cell_type": "code",
   "execution_count": 7,
   "id": "d2acd590",
   "metadata": {},
   "outputs": [
    {
     "data": {
      "text/plain": [
       "1"
      ]
     },
     "execution_count": 7,
     "metadata": {},
     "output_type": "execute_result"
    }
   ],
   "source": [
    "#dimension will also be check throgh ndim\n",
    "x.ndim"
   ]
  },
  {
   "cell_type": "code",
   "execution_count": 9,
   "id": "0629852b",
   "metadata": {},
   "outputs": [
    {
     "data": {
      "text/plain": [
       "array([0, 1, 2, 3, 4, 5, 6, 7, 8, 9])"
      ]
     },
     "execution_count": 9,
     "metadata": {},
     "output_type": "execute_result"
    }
   ],
   "source": [
    "arr1d = np.arange(10)\n",
    "arr1d"
   ]
  },
  {
   "cell_type": "code",
   "execution_count": 10,
   "id": "1c873136",
   "metadata": {},
   "outputs": [
    {
     "data": {
      "text/plain": [
       "[0, 1, 2, 3, 4, 5, 6, 7, 8, 9]"
      ]
     },
     "execution_count": 10,
     "metadata": {},
     "output_type": "execute_result"
    }
   ],
   "source": [
    "#Same as we have in python of range function\n",
    "list(range(10))"
   ]
  },
  {
   "cell_type": "markdown",
   "id": "59b16e6c",
   "metadata": {},
   "source": [
    "Both has same output but numpy has array and python has list output."
   ]
  },
  {
   "cell_type": "markdown",
   "id": "cb90e6f1",
   "metadata": {},
   "source": [
    "# 2 dimensional array"
   ]
  },
  {
   "cell_type": "code",
   "execution_count": 11,
   "id": "b13ea088",
   "metadata": {},
   "outputs": [
    {
     "data": {
      "text/plain": [
       "array([[11, 22, 33],\n",
       "       [44, 55, 66],\n",
       "       [77, 88, 99]])"
      ]
     },
     "execution_count": 11,
     "metadata": {},
     "output_type": "execute_result"
    }
   ],
   "source": [
    "arr2d = np.array([[11,22,33],[44,55,66],[77,88,99]])\n",
    "arr2d"
   ]
  },
  {
   "cell_type": "code",
   "execution_count": 12,
   "id": "f891040f",
   "metadata": {},
   "outputs": [
    {
     "data": {
      "text/plain": [
       "(3, 3)"
      ]
     },
     "execution_count": 12,
     "metadata": {},
     "output_type": "execute_result"
    }
   ],
   "source": [
    "#Now apply the operations\n",
    "arr2d.shape"
   ]
  },
  {
   "cell_type": "markdown",
   "id": "d8eba4fc",
   "metadata": {},
   "source": [
    "Here 3 rows and 3 columns"
   ]
  },
  {
   "cell_type": "code",
   "execution_count": 13,
   "id": "c1934421",
   "metadata": {},
   "outputs": [
    {
     "data": {
      "text/plain": [
       "2"
      ]
     },
     "execution_count": 13,
     "metadata": {},
     "output_type": "execute_result"
    }
   ],
   "source": [
    "#dimensions\n",
    "arr2d.ndim"
   ]
  },
  {
   "cell_type": "code",
   "execution_count": 14,
   "id": "94353321",
   "metadata": {},
   "outputs": [
    {
     "data": {
      "text/plain": [
       "9"
      ]
     },
     "execution_count": 14,
     "metadata": {},
     "output_type": "execute_result"
    }
   ],
   "source": [
    "arr2d.size"
   ]
  },
  {
   "cell_type": "markdown",
   "id": "0737cf6e",
   "metadata": {},
   "source": [
    "### Now we will use .reshape() to create some numpy arrays"
   ]
  },
  {
   "cell_type": "code",
   "execution_count": 17,
   "id": "fe31f892",
   "metadata": {},
   "outputs": [
    {
     "data": {
      "text/plain": [
       "array([[ 0,  1,  2,  3],\n",
       "       [ 4,  5,  6,  7],\n",
       "       [ 8,  9, 10, 11],\n",
       "       [12, 13, 14, 15],\n",
       "       [16, 17, 18, 19]])"
      ]
     },
     "execution_count": 17,
     "metadata": {},
     "output_type": "execute_result"
    }
   ],
   "source": [
    "arr = np.arange(20).reshape(5,4)\n",
    "arr\n",
    "#We can create the following array with arange(20)\n",
    "# arr2d = np.arange(20).reshape(20,1)\n",
    "# arr2d = np.arange(20).reshape(4,5)\n",
    "# arr2d = np.arange(20).reshape(10,10)"
   ]
  },
  {
   "cell_type": "code",
   "execution_count": 18,
   "id": "5c252bfa",
   "metadata": {},
   "outputs": [
    {
     "data": {
      "text/plain": [
       "numpy.ndarray"
      ]
     },
     "execution_count": 18,
     "metadata": {},
     "output_type": "execute_result"
    }
   ],
   "source": [
    "type(arr)"
   ]
  },
  {
   "cell_type": "code",
   "execution_count": 19,
   "id": "0728c5f3",
   "metadata": {},
   "outputs": [
    {
     "data": {
      "text/plain": [
       "20"
      ]
     },
     "execution_count": 19,
     "metadata": {},
     "output_type": "execute_result"
    }
   ],
   "source": [
    "arr.size"
   ]
  },
  {
   "cell_type": "code",
   "execution_count": 20,
   "id": "0fcd0d0d",
   "metadata": {},
   "outputs": [
    {
     "data": {
      "text/plain": [
       "2"
      ]
     },
     "execution_count": 20,
     "metadata": {},
     "output_type": "execute_result"
    }
   ],
   "source": [
    "arr.ndim"
   ]
  },
  {
   "cell_type": "code",
   "execution_count": 21,
   "id": "232c8216",
   "metadata": {},
   "outputs": [
    {
     "data": {
      "text/plain": [
       "array([ 0,  1,  2,  3,  4,  5,  6,  7,  8,  9, 10, 11, 12, 13, 14, 15, 16,\n",
       "       17, 18, 19])"
      ]
     },
     "execution_count": 21,
     "metadata": {},
     "output_type": "execute_result"
    }
   ],
   "source": [
    "arr.flatten()"
   ]
  },
  {
   "cell_type": "code",
   "execution_count": 22,
   "id": "77de8f0a",
   "metadata": {},
   "outputs": [
    {
     "data": {
      "text/plain": [
       "array([ 0,  1,  2,  3,  4,  5,  6,  7,  8,  9, 10, 11, 12, 13, 14, 15, 16,\n",
       "       17, 18, 19])"
      ]
     },
     "execution_count": 22,
     "metadata": {},
     "output_type": "execute_result"
    }
   ],
   "source": [
    "arr.ravel()"
   ]
  },
  {
   "cell_type": "markdown",
   "id": "6ddff33e",
   "metadata": {},
   "source": [
    "# 3d array let have practics some 3d arrays"
   ]
  },
  {
   "cell_type": "code",
   "execution_count": 24,
   "id": "1bf1b5a1",
   "metadata": {},
   "outputs": [
    {
     "data": {
      "text/plain": [
       "array([[[ 0,  1,  2,  3],\n",
       "        [ 4,  5,  6,  7],\n",
       "        [ 8,  9, 10, 11],\n",
       "        [12, 13, 14, 15]],\n",
       "\n",
       "       [[16, 17, 18, 19],\n",
       "        [20, 21, 22, 23],\n",
       "        [24, 25, 26, 27],\n",
       "        [28, 29, 30, 31]],\n",
       "\n",
       "       [[32, 33, 34, 35],\n",
       "        [36, 37, 38, 39],\n",
       "        [40, 41, 42, 43],\n",
       "        [44, 45, 46, 47]],\n",
       "\n",
       "       [[48, 49, 50, 51],\n",
       "        [52, 53, 54, 55],\n",
       "        [56, 57, 58, 59],\n",
       "        [60, 61, 62, 63]]])"
      ]
     },
     "execution_count": 24,
     "metadata": {},
     "output_type": "execute_result"
    }
   ],
   "source": [
    "arr3d = np.arange(64).reshape(4,4,4) #4 is depth, row and columns\n",
    "arr3d\n",
    "#Here 9 is depth and second 4 is row and third 4 is columns"
   ]
  },
  {
   "cell_type": "code",
   "execution_count": 28,
   "id": "89e408e0",
   "metadata": {},
   "outputs": [
    {
     "data": {
      "text/plain": [
       "array([[[  0,   1,   2,   3],\n",
       "        [  4,   5,   6,   7],\n",
       "        [  8,   9,  10,  11],\n",
       "        [ 12,  13,  14,  15]],\n",
       "\n",
       "       [[ 16,  17,  18,  19],\n",
       "        [ 20,  21,  22,  23],\n",
       "        [ 24,  25,  26,  27],\n",
       "        [ 28,  29,  30,  31]],\n",
       "\n",
       "       [[ 32,  33,  34,  35],\n",
       "        [ 36,  37,  38,  39],\n",
       "        [ 40,  41,  42,  43],\n",
       "        [ 44,  45,  46,  47]],\n",
       "\n",
       "       [[ 48,  49,  50,  51],\n",
       "        [ 52,  53,  54,  55],\n",
       "        [ 56,  57,  58,  59],\n",
       "        [ 60,  61,  62,  63]],\n",
       "\n",
       "       [[ 64,  65,  66,  67],\n",
       "        [ 68,  69,  70,  71],\n",
       "        [ 72,  73,  74,  75],\n",
       "        [ 76,  77,  78,  79]],\n",
       "\n",
       "       [[ 80,  81,  82,  83],\n",
       "        [ 84,  85,  86,  87],\n",
       "        [ 88,  89,  90,  91],\n",
       "        [ 92,  93,  94,  95]],\n",
       "\n",
       "       [[ 96,  97,  98,  99],\n",
       "        [100, 101, 102, 103],\n",
       "        [104, 105, 106, 107],\n",
       "        [108, 109, 110, 111]],\n",
       "\n",
       "       [[112, 113, 114, 115],\n",
       "        [116, 117, 118, 119],\n",
       "        [120, 121, 122, 123],\n",
       "        [124, 125, 126, 127]],\n",
       "\n",
       "       [[128, 129, 130, 131],\n",
       "        [132, 133, 134, 135],\n",
       "        [136, 137, 138, 139],\n",
       "        [140, 141, 142, 143]]])"
      ]
     },
     "execution_count": 28,
     "metadata": {},
     "output_type": "execute_result"
    }
   ],
   "source": [
    "arr3darray = np.arange(144).reshape(9,4,4)\n",
    "arr3darray\n",
    "#Here 9 is depth and 4 is row and 4 is columns"
   ]
  },
  {
   "cell_type": "markdown",
   "id": "6e864037",
   "metadata": {},
   "source": [
    "### Now we are checking the slicing and indexing with the numpy array"
   ]
  },
  {
   "cell_type": "code",
   "execution_count": 29,
   "id": "f5f68419",
   "metadata": {},
   "outputs": [
    {
     "data": {
      "text/plain": [
       "array([28, 29, 30, 31])"
      ]
     },
     "execution_count": 29,
     "metadata": {},
     "output_type": "execute_result"
    }
   ],
   "source": [
    "arr3darray[1,3]"
   ]
  },
  {
   "cell_type": "code",
   "execution_count": 31,
   "id": "dce09013",
   "metadata": {},
   "outputs": [
    {
     "data": {
      "text/plain": [
       "array([72, 73, 74, 75])"
      ]
     },
     "execution_count": 31,
     "metadata": {},
     "output_type": "execute_result"
    }
   ],
   "source": [
    "arr3darray[4,2]"
   ]
  },
  {
   "cell_type": "code",
   "execution_count": 36,
   "id": "f2764ae3",
   "metadata": {},
   "outputs": [
    {
     "data": {
      "text/plain": [
       "array([[[112, 113, 114, 115],\n",
       "        [116, 117, 118, 119],\n",
       "        [120, 121, 122, 123],\n",
       "        [124, 125, 126, 127]],\n",
       "\n",
       "       [[128, 129, 130, 131],\n",
       "        [132, 133, 134, 135],\n",
       "        [136, 137, 138, 139],\n",
       "        [140, 141, 142, 143]]])"
      ]
     },
     "execution_count": 36,
     "metadata": {},
     "output_type": "execute_result"
    }
   ],
   "source": [
    "arr3darray[7:]"
   ]
  },
  {
   "cell_type": "code",
   "execution_count": 37,
   "id": "0a4ad5b2",
   "metadata": {},
   "outputs": [
    {
     "data": {
      "text/plain": [
       "array([[[ 0,  1,  2,  3],\n",
       "        [ 4,  5,  6,  7],\n",
       "        [ 8,  9, 10, 11],\n",
       "        [12, 13, 14, 15]],\n",
       "\n",
       "       [[16, 17, 18, 19],\n",
       "        [20, 21, 22, 23],\n",
       "        [24, 25, 26, 27],\n",
       "        [28, 29, 30, 31]]])"
      ]
     },
     "execution_count": 37,
     "metadata": {},
     "output_type": "execute_result"
    }
   ],
   "source": [
    "arr3darray[: 2]"
   ]
  },
  {
   "cell_type": "code",
   "execution_count": 38,
   "id": "e97c8042",
   "metadata": {},
   "outputs": [
    {
     "data": {
      "text/plain": [
       "array([24, 25, 26, 27])"
      ]
     },
     "execution_count": 38,
     "metadata": {},
     "output_type": "execute_result"
    }
   ],
   "source": [
    "arr3darray[1][2]"
   ]
  },
  {
   "cell_type": "code",
   "execution_count": 40,
   "id": "0cd1adac",
   "metadata": {},
   "outputs": [
    {
     "data": {
      "text/plain": [
       "array([56, 57, 58, 59])"
      ]
     },
     "execution_count": 40,
     "metadata": {},
     "output_type": "execute_result"
    }
   ],
   "source": [
    "arr3darray[3][2]"
   ]
  },
  {
   "cell_type": "code",
   "execution_count": 41,
   "id": "d79eac76",
   "metadata": {},
   "outputs": [
    {
     "data": {
      "text/plain": [
       "array([136, 137, 138, 139])"
      ]
     },
     "execution_count": 41,
     "metadata": {},
     "output_type": "execute_result"
    }
   ],
   "source": [
    "arr3darray[8][2]"
   ]
  },
  {
   "cell_type": "code",
   "execution_count": null,
   "id": "04ab14ae",
   "metadata": {},
   "outputs": [],
   "source": []
  }
 ],
 "metadata": {
  "kernelspec": {
   "display_name": "Python 3 (ipykernel)",
   "language": "python",
   "name": "python3"
  },
  "language_info": {
   "codemirror_mode": {
    "name": "ipython",
    "version": 3
   },
   "file_extension": ".py",
   "mimetype": "text/x-python",
   "name": "python",
   "nbconvert_exporter": "python",
   "pygments_lexer": "ipython3",
   "version": "3.9.13"
  }
 },
 "nbformat": 4,
 "nbformat_minor": 5
}
